{
 "cells": [
  {
   "cell_type": "markdown",
   "metadata": {},
   "source": [
    "# Orquestrador de Chatbots - Configurações\n",
    "-----------------------------------\n",
    "\n",
    "Notebook para facilitar a modificação das configurações usadas pelos outros módulos. \n",
    "\n",
    "Faça as modificações que desejar por aqui e rode o notebook para que elas sejam salvas para o **config.json**."
   ]
  },
  {
   "cell_type": "code",
   "execution_count": 12,
   "metadata": {},
   "outputs": [],
   "source": [
    "import json\n",
    "import os\n",
    "import re\n",
    "import glob"
   ]
  },
  {
   "cell_type": "code",
   "execution_count": 13,
   "metadata": {},
   "outputs": [],
   "source": [
    "cfg = {}"
   ]
  },
  {
   "cell_type": "code",
   "execution_count": 14,
   "metadata": {},
   "outputs": [],
   "source": [
    "cfg['nome_arquivo_configuracao'] = 'config.json'"
   ]
  },
  {
   "cell_type": "markdown",
   "metadata": {},
   "source": [
    "## Uso de Stemmer"
   ]
  },
  {
   "cell_type": "code",
   "execution_count": 15,
   "metadata": {},
   "outputs": [],
   "source": [
    "# Indica se será usado stemmer na preparação dos dados. \n",
    "cfg['aplicar_stemmer']=False"
   ]
  },
  {
   "cell_type": "markdown",
   "metadata": {},
   "source": [
    "## Relação de Bots"
   ]
  },
  {
   "cell_type": "code",
   "execution_count": 16,
   "metadata": {},
   "outputs": [],
   "source": [
    "# Bots disponíveis e seus respectivos arquivos de skills no formato JSON. O \"id\"  é o identificador de chatbot.\n",
    "bots = [\n",
    "    {'bot_id':1, 'nome':'Alistamento Militar', 'arquivo':'skill-alistamento-militar.json'},\n",
    "    {'bot_id':2, 'nome':'COVID', 'arquivo':'skill-covid.json'},\n",
    "    {'bot_id':3, 'nome':'Login Único', 'arquivo':'skill-login-unico.json'},\n",
    "    {'bot_id':4, 'nome':'IRPF 2020', 'arquivo':'skill-perguntao-irpf-2020.json'},\n",
    "    {'bot_id':5, 'nome':'PGMEI', 'arquivo':'skill-pgmei.json'},\n",
    "    {'bot_id':6, 'nome':'Selo Turismo Responsável', 'arquivo':'skill-poc-selo-turismo-responsavel.json'},\n",
    "    {'bot_id':7, 'nome':'Cadastur', 'arquivo':'skill-cadastur.json'},\n",
    "    {'bot_id':8, 'nome':'Tuberculose', 'arquivo':'skill-tuberculose.json'}\n",
    "]\n",
    "\n",
    "cfg['bots'] = bots"
   ]
  },
  {
   "cell_type": "markdown",
   "metadata": {},
   "source": [
    "## Nomes de Diretórios e Arquivos"
   ]
  },
  {
   "cell_type": "code",
   "execution_count": 17,
   "metadata": {},
   "outputs": [],
   "source": [
    "# Diretório de Skills:\n",
    "cfg['diretorio_skills'] = 'skills'\n",
    "\n",
    "# Diretório de Dados\n",
    "cfg['diretorio_dados'] = 'dados'\n",
    "\n",
    "# Diretório dos Modelos\n",
    "cfg['diretorio_modelos'] = 'modelos'\n",
    "\n",
    "# Arquivo onde estão armazenadas perguntas fora de contexto (\"Perguntas 0\")\n",
    "cfg['arquivo_perguntas_zero'] = 'bots_perguntas_0.csv'\n",
    "\n",
    "# Nome do arquivo CSV onde serão armazenadas TODAS as perguntas extraídas, com rótulos.\n",
    "cfg['arquivo_todas'] = 'bots_perguntas_todas.csv'\n",
    "\n",
    "# Nome do arquivo CSV onde serão armazenadas as perguntas rotuladas, para treino e teste.\n",
    "cfg['arquivo_treino_testes'] = 'treino_testes.csv'\n",
    "\n",
    "# Nome do arquivo CSV onde serão armazenadas as perguntas de validação\n",
    "cfg['arquivo_validacao'] = 'validacao.csv'\n",
    "\n",
    "# Nome do arquivo CSV onde serão armazenadas as perguntas de validação, com perguntas fora de contexto (\"Perguntas 0\")\n",
    "cfg['arquivo_validacao_com_zero'] = 'validacao_com_0.csv'\n",
    "\n",
    "# Nome do arquivo CSV onde serão armazenados as perguntas processadas (limpas) da base de treino e teste\n",
    "cfg['arquivo_treino_testes_processado'] = 'treino_testes_processado.csv'\n",
    "\n",
    "# Nome do arquivo de vocabulário\n",
    "cfg['arquivo_vocabulario'] = 'vocabulario.txt'\n",
    "\n",
    "# Nome do arquivo do vetorizador\n",
    "cfg['arquivo_vetorizador'] = 'vetorizador.pkl'\n",
    "\n",
    "# Padrão de nome dos arquivos dos classificadores-base\n",
    "cfg['padrao_arquivo_classificador_base'] = 'clf_base_%classe%.pkl'\n",
    "\n",
    "# Padrão de nome dos arquivos dos Voting CLassifiers\n",
    "cfg['padrao_arquivo_classificador_voting'] = 'clf_voting_%bot_id%.pkl'\n",
    "\n",
    "# Nome do arquivo do classificador voting\n",
    "cfg['arquivo_classificador_voting'] = 'clf_voting.pkl'\n",
    "\n",
    "# Nome do arquivo de informacoes\n",
    "cfg['arquivo_informacoes'] = 'info.json'\n",
    "\n",
    "# Nome dos arquivo de resultados\n",
    "cfg['arquivo_resultados'] = {'True':  'voting_resultados_com_stemmer.pkl', \n",
    "                             'False': 'voting_resultados_sem_stemmer.pkl'}"
   ]
  },
  {
   "cell_type": "markdown",
   "metadata": {},
   "source": [
    "## Outras Configurações"
   ]
  },
  {
   "cell_type": "code",
   "execution_count": 18,
   "metadata": {},
   "outputs": [],
   "source": [
    "# Percentual da base de validação.\n",
    "cfg['validacao_size'] = 0.35"
   ]
  },
  {
   "cell_type": "code",
   "execution_count": 19,
   "metadata": {},
   "outputs": [],
   "source": [
    "# Semente aleatória a ser usada ao longo desse notebook.\n",
    "cfg['random_state']= 112020"
   ]
  },
  {
   "cell_type": "code",
   "execution_count": 20,
   "metadata": {},
   "outputs": [],
   "source": [
    "# Configurações do Vocabulário:\n",
    "# Frequencia mínima das palavras e Número de palavras mais frequentes a serem eliminadas\n",
    "cfg['vocab'] = {\n",
    "                'freq_min':0, \n",
    "                'remover_frequentes':0\n",
    "                }"
   ]
  },
  {
   "cell_type": "code",
   "execution_count": 21,
   "metadata": {},
   "outputs": [],
   "source": [
    "# Configurações do Vetorizador\n",
    "cfg['vetorizador'] = {'ngram_range':(1,2), 'sublinear_tf':True, 'smooth_idf':False, 'norm':'l2'}\n",
    "\n",
    "# Aplicar vocabulário no vetorizador?\n",
    "cfg['vetorizador']['vector_vocab'] = False"
   ]
  },
  {
   "cell_type": "markdown",
   "metadata": {},
   "source": [
    "## Salva as Configurações"
   ]
  },
  {
   "cell_type": "code",
   "execution_count": 22,
   "metadata": {},
   "outputs": [
    {
     "name": "stdout",
     "output_type": "stream",
     "text": [
      "Configurações atualizadas em config.json\n"
     ]
    }
   ],
   "source": [
    "with open(cfg['nome_arquivo_configuracao'], 'w') as fp:\n",
    "    json.dump(cfg, fp, indent=2)\n",
    "print('Configurações atualizadas em',cfg['nome_arquivo_configuracao'])"
   ]
  },
  {
   "cell_type": "code",
   "execution_count": null,
   "metadata": {},
   "outputs": [],
   "source": []
  }
 ],
 "metadata": {
  "kernelspec": {
   "display_name": "Python 3",
   "language": "python",
   "name": "python3"
  },
  "language_info": {
   "codemirror_mode": {
    "name": "ipython",
    "version": 3
   },
   "file_extension": ".py",
   "mimetype": "text/x-python",
   "name": "python",
   "nbconvert_exporter": "python",
   "pygments_lexer": "ipython3",
   "version": "3.7.6"
  }
 },
 "nbformat": 4,
 "nbformat_minor": 4
}
