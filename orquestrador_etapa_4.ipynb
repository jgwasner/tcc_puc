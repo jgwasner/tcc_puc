{
 "cells": [
  {
   "cell_type": "markdown",
   "metadata": {},
   "source": [
    "# Orquestrador de Chatbots - Etapa 4\n",
    "-----------------------------------\n",
    "## Obter os Classificadores Finais\n",
    "\n",
    "1. Montar um **VotingClassifier** multiclasse com os classificadores -base.\n",
    "2. Montar N **VotingClassifier**, um específico para cada classe (bot).\n",
    "3. Comparar as métricas para todos os modelos gerados usando a base de treino e teste.\n",
    "4. Persistir os classificadores obtidos."
   ]
  },
  {
   "cell_type": "code",
   "execution_count": 1,
   "metadata": {},
   "outputs": [],
   "source": [
    "%load_ext autoreload\n",
    "%autoreload 2"
   ]
  },
  {
   "cell_type": "markdown",
   "metadata": {},
   "source": [
    "## Bibliotecas utilizadas"
   ]
  },
  {
   "cell_type": "code",
   "execution_count": 2,
   "metadata": {},
   "outputs": [],
   "source": [
    "import pandas as pd\n",
    "import numpy as np\n",
    "import csv\n",
    "import codecs\n",
    "import os\n",
    "import glob\n",
    "import pickle\n",
    "import re\n",
    "from sklearn.feature_extraction.text import TfidfVectorizer\n",
    "\n",
    "from sklearn.metrics import accuracy_score, f1_score, precision_score, recall_score, confusion_matrix, make_scorer\n",
    "\n",
    "from sklearn.svm import SVC\n",
    "from sklearn.svm import LinearSVC\n",
    "from sklearn.linear_model import SGDClassifier\n",
    "from sklearn.linear_model import LogisticRegression\n",
    "from sklearn.ensemble import RandomForestClassifier\n",
    "from sklearn.calibration import CalibratedClassifierCV\n",
    "\n",
    "from sklearn.ensemble import VotingClassifier\n",
    "\n",
    "from sklearn.model_selection import GridSearchCV\n",
    "from sklearn.pipeline import Pipeline\n",
    "import json"
   ]
  },
  {
   "cell_type": "code",
   "execution_count": 3,
   "metadata": {},
   "outputs": [],
   "source": [
    "import orquestrador_funcoes_gerais as ofg"
   ]
  },
  {
   "cell_type": "markdown",
   "metadata": {},
   "source": [
    "## Funções Específicas"
   ]
  },
  {
   "cell_type": "code",
   "execution_count": 4,
   "metadata": {},
   "outputs": [],
   "source": [
    "def gerar_voting(clfs_selec, clfs_base, voting='soft'):\n",
    "    estimators =[]\n",
    "    for clf in clfs_base:\n",
    "        if clf.__class__.__name__ in clfs_selec:\n",
    "            if (voting=='soft') and (clf.__class__.__name__ in ['LinearSVC','SGDClassifier']):\n",
    "                estimators.append((clf.__class__.__name__, CalibratedClassifierCV(clf, method='sigmoid', cv=3)))\n",
    "            else:\n",
    "                estimators.append((clf.__class__.__name__, clf))\n",
    "                        \n",
    "    voting_clf = VotingClassifier(estimators=estimators, n_jobs=-1, voting=voting)\n",
    "    return voting_clf"
   ]
  },
  {
   "cell_type": "markdown",
   "metadata": {},
   "source": [
    "## Configurações"
   ]
  },
  {
   "cell_type": "code",
   "execution_count": 5,
   "metadata": {},
   "outputs": [
    {
     "name": "stdout",
     "output_type": "stream",
     "text": [
      "Conferir as configurações antes de prosseguir\n",
      "nome_arquivo_configuracao: config.json\n",
      "------------------------------------------------------------------------------------------------------------------------\n",
      "aplicar_stemmer: False\n",
      "------------------------------------------------------------------------------------------------------------------------\n",
      "bots: [{'bot_id': 1, 'nome': 'Alistamento Militar', 'arquivo': 'skill-alistamento-militar.json'}, {'bot_id': 2, 'nome': 'COVID', 'arquivo': 'skill-covid.json'}, {'bot_id': 3, 'nome': 'Login Único', 'arquivo': 'skill-login-unico.json'}, {'bot_id': 4, 'nome': 'IRPF 2020', 'arquivo': 'skill-perguntao-irpf-2020.json'}, {'bot_id': 5, 'nome': 'PGMEI', 'arquivo': 'skill-pgmei.json'}, {'bot_id': 6, 'nome': 'Selo Turismo Responsável', 'arquivo': 'skill-poc-selo-turismo-responsavel.json'}, {'bot_id': 7, 'nome': 'Cadastur', 'arquivo': 'skill-cadastur.json'}, {'bot_id': 8, 'nome': 'Tuberculose', 'arquivo': 'skill-tuberculose.json'}]\n",
      "------------------------------------------------------------------------------------------------------------------------\n",
      "diretorio_skills: skills\n",
      "------------------------------------------------------------------------------------------------------------------------\n",
      "diretorio_dados: dados\n",
      "------------------------------------------------------------------------------------------------------------------------\n",
      "diretorio_modelos: modelos\n",
      "------------------------------------------------------------------------------------------------------------------------\n",
      "arquivo_perguntas_zero: bots_perguntas_0.csv\n",
      "------------------------------------------------------------------------------------------------------------------------\n",
      "arquivo_todas: bots_perguntas_todas.csv\n",
      "------------------------------------------------------------------------------------------------------------------------\n",
      "arquivo_treino_testes: treino_testes.csv\n",
      "------------------------------------------------------------------------------------------------------------------------\n",
      "arquivo_validacao: validacao.csv\n",
      "------------------------------------------------------------------------------------------------------------------------\n",
      "arquivo_validacao_com_zero: validacao_com_0.csv\n",
      "------------------------------------------------------------------------------------------------------------------------\n",
      "arquivo_treino_testes_processado: treino_testes_processado.csv\n",
      "------------------------------------------------------------------------------------------------------------------------\n",
      "arquivo_vocabulario: vocabulario.txt\n",
      "------------------------------------------------------------------------------------------------------------------------\n",
      "arquivo_vetorizador: vetorizador.pkl\n",
      "------------------------------------------------------------------------------------------------------------------------\n",
      "padrao_arquivo_classificador_base: clf_base_%classe%.pkl\n",
      "------------------------------------------------------------------------------------------------------------------------\n",
      "padrao_arquivo_classificador_voting: clf_voting_%bot_id%.pkl\n",
      "------------------------------------------------------------------------------------------------------------------------\n",
      "arquivo_classificador_voting: clf_voting.pkl\n",
      "------------------------------------------------------------------------------------------------------------------------\n",
      "arquivo_informacoes: info.json\n",
      "------------------------------------------------------------------------------------------------------------------------\n",
      "arquivo_resultados:\n",
      "  True: voting_resultados_com_stemmer.pkl\n",
      "  False: voting_resultados_sem_stemmer.pkl\n",
      "------------------------------------------------------------------------------------------------------------------------\n",
      "validacao_size: 0.35\n",
      "------------------------------------------------------------------------------------------------------------------------\n",
      "random_state: 112020\n",
      "------------------------------------------------------------------------------------------------------------------------\n",
      "vocab:\n",
      "  freq_min: 0\n",
      "  remover_frequentes: 0\n",
      "------------------------------------------------------------------------------------------------------------------------\n",
      "vetorizador:\n",
      "  ngram_range: [1, 2]\n",
      "  sublinear_tf: True\n",
      "  smooth_idf: False\n",
      "  norm: l2\n",
      "  vector_vocab: False\n",
      "------------------------------------------------------------------------------------------------------------------------\n"
     ]
    }
   ],
   "source": [
    "cfg = ofg.carregar_configuracoes()"
   ]
  },
  {
   "cell_type": "code",
   "execution_count": 6,
   "metadata": {},
   "outputs": [],
   "source": [
    "bots=cfg['bots']"
   ]
  },
  {
   "cell_type": "code",
   "execution_count": 7,
   "metadata": {},
   "outputs": [
    {
     "name": "stdout",
     "output_type": "stream",
     "text": [
      "ATENÇÃO!!! Aplicação de Stemmer = False\n"
     ]
    }
   ],
   "source": [
    "print('ATENÇÃO!!! Aplicação de Stemmer =', cfg['aplicar_stemmer'])"
   ]
  },
  {
   "cell_type": "markdown",
   "metadata": {},
   "source": [
    "## Carregar dados processados\n",
    "\n",
    "Vide etapa 2 para ver como os dados foram processados."
   ]
  },
  {
   "cell_type": "code",
   "execution_count": 8,
   "metadata": {},
   "outputs": [
    {
     "name": "stdout",
     "output_type": "stream",
     "text": [
      "Total de registros carregados: 2631 de treino_testes_processado.csv\n"
     ]
    },
    {
     "data": {
      "text/html": [
       "<div>\n",
       "<style scoped>\n",
       "    .dataframe tbody tr th:only-of-type {\n",
       "        vertical-align: middle;\n",
       "    }\n",
       "\n",
       "    .dataframe tbody tr th {\n",
       "        vertical-align: top;\n",
       "    }\n",
       "\n",
       "    .dataframe thead th {\n",
       "        text-align: right;\n",
       "    }\n",
       "</style>\n",
       "<table border=\"1\" class=\"dataframe\">\n",
       "  <thead>\n",
       "    <tr style=\"text-align: right;\">\n",
       "      <th></th>\n",
       "      <th>bot_id</th>\n",
       "      <th>pergunta</th>\n",
       "    </tr>\n",
       "  </thead>\n",
       "  <tbody>\n",
       "    <tr>\n",
       "      <th>1</th>\n",
       "      <td>8</td>\n",
       "      <td>aperto mao transmite tuberculose</td>\n",
       "    </tr>\n",
       "    <tr>\n",
       "      <th>2</th>\n",
       "      <td>6</td>\n",
       "      <td>diaria tera valor maior aderir selo turismo re...</td>\n",
       "    </tr>\n",
       "    <tr>\n",
       "      <th>3</th>\n",
       "      <td>3</td>\n",
       "      <td>preciso conta acesso login unico</td>\n",
       "    </tr>\n",
       "    <tr>\n",
       "      <th>4</th>\n",
       "      <td>3</td>\n",
       "      <td>resolver problema cpf invalido</td>\n",
       "    </tr>\n",
       "    <tr>\n",
       "      <th>5</th>\n",
       "      <td>4</td>\n",
       "      <td>perda total carro declarar recebimento seguro</td>\n",
       "    </tr>\n",
       "    <tr>\n",
       "      <th>...</th>\n",
       "      <td>...</td>\n",
       "      <td>...</td>\n",
       "    </tr>\n",
       "    <tr>\n",
       "      <th>2626</th>\n",
       "      <td>4</td>\n",
       "      <td>filho dependente</td>\n",
       "    </tr>\n",
       "    <tr>\n",
       "      <th>2627</th>\n",
       "      <td>4</td>\n",
       "      <td>contribuinte obrigado preenchimento numero recibo</td>\n",
       "    </tr>\n",
       "    <tr>\n",
       "      <th>2628</th>\n",
       "      <td>5</td>\n",
       "      <td>preciso imprimir guia microempreendedor indivi...</td>\n",
       "    </tr>\n",
       "    <tr>\n",
       "      <th>2629</th>\n",
       "      <td>7</td>\n",
       "      <td>quer dizer cnae</td>\n",
       "    </tr>\n",
       "    <tr>\n",
       "      <th>2630</th>\n",
       "      <td>6</td>\n",
       "      <td>saiu novas orientacoes higiene vou atualizar selo</td>\n",
       "    </tr>\n",
       "  </tbody>\n",
       "</table>\n",
       "<p>2630 rows × 2 columns</p>\n",
       "</div>"
      ],
      "text/plain": [
       "      bot_id                                           pergunta\n",
       "1          8                   aperto mao transmite tuberculose\n",
       "2          6  diaria tera valor maior aderir selo turismo re...\n",
       "3          3                   preciso conta acesso login unico\n",
       "4          3                     resolver problema cpf invalido\n",
       "5          4      perda total carro declarar recebimento seguro\n",
       "...      ...                                                ...\n",
       "2626       4                                   filho dependente\n",
       "2627       4  contribuinte obrigado preenchimento numero recibo\n",
       "2628       5  preciso imprimir guia microempreendedor indivi...\n",
       "2629       7                                    quer dizer cnae\n",
       "2630       6  saiu novas orientacoes higiene vou atualizar selo\n",
       "\n",
       "[2630 rows x 2 columns]"
      ]
     },
     "execution_count": 8,
     "metadata": {},
     "output_type": "execute_result"
    }
   ],
   "source": [
    "arquivo_treino_testes_processado = os.path.join(os.getcwd(),  cfg['diretorio_dados'], cfg['arquivo_treino_testes_processado']) \n",
    "df = pd.read_csv(arquivo_treino_testes_processado, index_col=None, engine='python', sep =',', encoding=\"utf-8\")\n",
    "print('Total de registros carregados:',len(df), 'de', cfg['arquivo_treino_testes_processado'])\n",
    "df.tail(-1)"
   ]
  },
  {
   "cell_type": "markdown",
   "metadata": {},
   "source": [
    "## Carregar Vetorizador\n",
    "\n",
    "Vide etapa 2 para ver como o vetorizador foi gerado."
   ]
  },
  {
   "cell_type": "code",
   "execution_count": 9,
   "metadata": {},
   "outputs": [
    {
     "name": "stdout",
     "output_type": "stream",
     "text": [
      "Carregando Vetorizador ---> E:\\DataScience\\PUC\\TCC\\tcc_orquestrador_bots_final\\modelos\\vetorizador.pkl \n",
      "\n",
      "TfidfVectorizer(ngram_range=[1, 2], smooth_idf=False, sublinear_tf=True)\n"
     ]
    }
   ],
   "source": [
    "arquivo_vetorizador = os.path.join(os.getcwd(), cfg['diretorio_modelos'], cfg['arquivo_vetorizador'])\n",
    "print('Carregando Vetorizador --->',arquivo_vetorizador,'\\n')\n",
    "try:            \n",
    "    file = open(arquivo_vetorizador, 'rb')\n",
    "    vectorizer = pickle.load(file)\n",
    "    file.close()\n",
    "except Exception as e:\n",
    "    print('Erro no carregamento do vetorizador',arquivo_vetorizador,'-->',str(e))\n",
    "print(vectorizer)"
   ]
  },
  {
   "cell_type": "markdown",
   "metadata": {},
   "source": [
    "## Carregar Classificadores Base\n",
    "\n",
    "Vide etapa 3 para ver como os classificadores base foram obtidos"
   ]
  },
  {
   "cell_type": "code",
   "execution_count": 10,
   "metadata": {},
   "outputs": [
    {
     "name": "stdout",
     "output_type": "stream",
     "text": [
      "Carregando os classificadores base disponíveis\n",
      "------------------------------------------------------------------------------------------------------------------------\n",
      "Carregado: LinearSVC(C=5, class_weight='balanced', loss='hinge', max_iter=2000,\n",
      "          random_state=112020)\n",
      "------------------------------------------------------------------------------------------------------------------------\n",
      "Carregado: LogisticRegression(C=5, class_weight='balanced', max_iter=1000,\n",
      "                   random_state=112020, solver='saga')\n",
      "------------------------------------------------------------------------------------------------------------------------\n",
      "Carregado: RandomForestClassifier(criterion='entropy', max_depth=160, n_estimators=1600,\n",
      "                       n_jobs=-1, random_state=112020)\n",
      "------------------------------------------------------------------------------------------------------------------------\n",
      "Carregado: SGDClassifier(alpha=0.0005, class_weight='balanced', loss='modified_huber',\n",
      "              max_iter=10, n_jobs=-1, random_state=112020)\n",
      "------------------------------------------------------------------------------------------------------------------------\n",
      "Carregado: SVC(C=0.75, class_weight='balanced', gamma=1.5, kernel='sigmoid',\n",
      "    probability=True, random_state=112020)\n",
      "------------------------------------------------------------------------------------------------------------------------\n"
     ]
    }
   ],
   "source": [
    "print('Carregando os classificadores base disponíveis')\n",
    "print('-'*120)\n",
    "clfs_base = []\n",
    "padrao_arquivo_classificador_base = cfg['padrao_arquivo_classificador_base'].replace('%classe%','*')\n",
    "padrao_arquivo_classificador_base = os.path.join(os.getcwd(), cfg['diretorio_modelos'], padrao_arquivo_classificador_base)\n",
    "\n",
    "# Busca todos os arquivos que atendam ao padrão\n",
    "all_files = glob.glob(padrao_arquivo_classificador_base)\n",
    "if all_files == []:\n",
    "   print('Não foi encontrado nenhum arquivo que atenda ao padrão', padrao_arquivo_classificador_base)\n",
    "else:\n",
    "    for arquivo in all_files:\n",
    "        try:            \n",
    "            file = open(arquivo, 'rb')\n",
    "            clf = pickle.load(file)\n",
    "            file.close()\n",
    "            clfs_base.append(clf)\n",
    "            print('Carregado:',clf)\n",
    "        except Exception as e:\n",
    "            print('Erro no carregamento do modelo',arquivo,'-->',str(e))\n",
    "        print('-'*120)"
   ]
  },
  {
   "cell_type": "markdown",
   "metadata": {},
   "source": [
    "## Carrega informações de processamento de outros módulos"
   ]
  },
  {
   "cell_type": "code",
   "execution_count": 11,
   "metadata": {},
   "outputs": [
    {
     "data": {
      "text/plain": [
       "{'scores': {'LogisticRegression': 0.8805013839861138,\n",
       "  'LinearSVC': 0.8877512938837833,\n",
       "  'SVC': 0.8810979465853578,\n",
       "  'SGDClassifier': 0.8878559780805455,\n",
       "  'RandomForestClassifier': 0.8081470154783211}}"
      ]
     },
     "execution_count": 11,
     "metadata": {},
     "output_type": "execute_result"
    }
   ],
   "source": [
    "arquivo_informacoes = os.path.join(os.getcwd(), cfg['diretorio_dados'], cfg['arquivo_informacoes'])\n",
    "info = json.loads(open(arquivo_informacoes).read())\n",
    "info"
   ]
  },
  {
   "cell_type": "markdown",
   "metadata": {},
   "source": [
    "## **Voting Classifier** Multiclasse"
   ]
  },
  {
   "cell_type": "code",
   "execution_count": 12,
   "metadata": {},
   "outputs": [],
   "source": [
    "bot_id_gs = 0 # Se = 0, usa todas as classes (multiclasse).\n",
    "if bot_id_gs != 0:\n",
    "    df['classe'] = df['bot_id'].apply(lambda x : 1 if x == bot['id'] else 0)\n",
    "    y_GS = df['classe'].tolist()\n",
    "else:\n",
    "    y_GS = df['bot_id'].tolist()\n",
    "\n",
    "X_GS = df['pergunta'].tolist()"
   ]
  },
  {
   "cell_type": "code",
   "execution_count": 13,
   "metadata": {},
   "outputs": [],
   "source": [
    "# Parâmetros de Grid Search do VotingClassifier\n",
    "param_grid = {'classifier__weights':[[2,1,1,1,2],[1,1,1,1,1],[2.5,3,1,3,3],[3,3.1,1.2,1,3.1,3.1]]}\n",
    "\n",
    "clfs_selec = []\n",
    "for clf in clfs_base:\n",
    "    clfs_selec.append(clf.__class__.__name__)"
   ]
  },
  {
   "cell_type": "code",
   "execution_count": 14,
   "metadata": {},
   "outputs": [
    {
     "name": "stdout",
     "output_type": "stream",
     "text": [
      "Fitting 3 folds for each of 4 candidates, totalling 12 fits\n"
     ]
    },
    {
     "name": "stderr",
     "output_type": "stream",
     "text": [
      "[Parallel(n_jobs=-1)]: Using backend LokyBackend with 16 concurrent workers.\n",
      "[Parallel(n_jobs=-1)]: Done   6 out of  12 | elapsed:   15.5s remaining:   15.5s\n",
      "[Parallel(n_jobs=-1)]: Done  12 out of  12 | elapsed:   16.4s finished\n"
     ]
    },
    {
     "name": "stdout",
     "output_type": "stream",
     "text": [
      "VotingClassifier - Média Score: 0.8849724430971689 \n",
      "Params: {'classifier__weights': [2.5, 3, 1, 3, 3]}\n"
     ]
    },
    {
     "data": {
      "text/html": [
       "<div>\n",
       "<style scoped>\n",
       "    .dataframe tbody tr th:only-of-type {\n",
       "        vertical-align: middle;\n",
       "    }\n",
       "\n",
       "    .dataframe tbody tr th {\n",
       "        vertical-align: top;\n",
       "    }\n",
       "\n",
       "    .dataframe thead th {\n",
       "        text-align: right;\n",
       "    }\n",
       "</style>\n",
       "<table border=\"1\" class=\"dataframe\">\n",
       "  <thead>\n",
       "    <tr style=\"text-align: right;\">\n",
       "      <th></th>\n",
       "      <th>index</th>\n",
       "      <th>mean_fit_time</th>\n",
       "      <th>std_fit_time</th>\n",
       "      <th>mean_score_time</th>\n",
       "      <th>std_score_time</th>\n",
       "      <th>param_classifier__weights</th>\n",
       "      <th>params</th>\n",
       "      <th>split0_test_score</th>\n",
       "      <th>split1_test_score</th>\n",
       "      <th>split2_test_score</th>\n",
       "      <th>mean_test_score</th>\n",
       "      <th>std_test_score</th>\n",
       "      <th>rank_test_score</th>\n",
       "    </tr>\n",
       "  </thead>\n",
       "  <tbody>\n",
       "    <tr>\n",
       "      <th>0</th>\n",
       "      <td>2</td>\n",
       "      <td>14.518541</td>\n",
       "      <td>0.429997</td>\n",
       "      <td>0.720702</td>\n",
       "      <td>0.001995</td>\n",
       "      <td>[2.5, 3, 1, 3, 3]</td>\n",
       "      <td>{'classifier__weights': [2.5, 3, 1, 3, 3]}</td>\n",
       "      <td>0.885330</td>\n",
       "      <td>0.874847</td>\n",
       "      <td>0.894740</td>\n",
       "      <td>0.884972</td>\n",
       "      <td>0.008125</td>\n",
       "      <td>1</td>\n",
       "    </tr>\n",
       "    <tr>\n",
       "      <th>1</th>\n",
       "      <td>0</td>\n",
       "      <td>14.398853</td>\n",
       "      <td>0.425893</td>\n",
       "      <td>0.689620</td>\n",
       "      <td>0.050686</td>\n",
       "      <td>[2, 1, 1, 1, 2]</td>\n",
       "      <td>{'classifier__weights': [2, 1, 1, 1, 2]}</td>\n",
       "      <td>0.882004</td>\n",
       "      <td>0.872701</td>\n",
       "      <td>0.898809</td>\n",
       "      <td>0.884505</td>\n",
       "      <td>0.010804</td>\n",
       "      <td>2</td>\n",
       "    </tr>\n",
       "    <tr>\n",
       "      <th>2</th>\n",
       "      <td>1</td>\n",
       "      <td>14.434192</td>\n",
       "      <td>0.382509</td>\n",
       "      <td>0.722127</td>\n",
       "      <td>0.002550</td>\n",
       "      <td>[1, 1, 1, 1, 1]</td>\n",
       "      <td>{'classifier__weights': [1, 1, 1, 1, 1]}</td>\n",
       "      <td>0.881083</td>\n",
       "      <td>0.874847</td>\n",
       "      <td>0.896122</td>\n",
       "      <td>0.884017</td>\n",
       "      <td>0.008930</td>\n",
       "      <td>3</td>\n",
       "    </tr>\n",
       "    <tr>\n",
       "      <th>3</th>\n",
       "      <td>3</td>\n",
       "      <td>0.036840</td>\n",
       "      <td>0.002593</td>\n",
       "      <td>0.000000</td>\n",
       "      <td>0.000000</td>\n",
       "      <td>[3, 3.1, 1.2, 1, 3.1, 3.1]</td>\n",
       "      <td>{'classifier__weights': [3, 3.1, 1.2, 1, 3.1, ...</td>\n",
       "      <td>NaN</td>\n",
       "      <td>NaN</td>\n",
       "      <td>NaN</td>\n",
       "      <td>NaN</td>\n",
       "      <td>NaN</td>\n",
       "      <td>4</td>\n",
       "    </tr>\n",
       "  </tbody>\n",
       "</table>\n",
       "</div>"
      ],
      "text/plain": [
       "   index  mean_fit_time  std_fit_time  mean_score_time  std_score_time  \\\n",
       "0      2      14.518541      0.429997         0.720702        0.001995   \n",
       "1      0      14.398853      0.425893         0.689620        0.050686   \n",
       "2      1      14.434192      0.382509         0.722127        0.002550   \n",
       "3      3       0.036840      0.002593         0.000000        0.000000   \n",
       "\n",
       "    param_classifier__weights  \\\n",
       "0           [2.5, 3, 1, 3, 3]   \n",
       "1             [2, 1, 1, 1, 2]   \n",
       "2             [1, 1, 1, 1, 1]   \n",
       "3  [3, 3.1, 1.2, 1, 3.1, 3.1]   \n",
       "\n",
       "                                              params  split0_test_score  \\\n",
       "0         {'classifier__weights': [2.5, 3, 1, 3, 3]}           0.885330   \n",
       "1           {'classifier__weights': [2, 1, 1, 1, 2]}           0.882004   \n",
       "2           {'classifier__weights': [1, 1, 1, 1, 1]}           0.881083   \n",
       "3  {'classifier__weights': [3, 3.1, 1.2, 1, 3.1, ...                NaN   \n",
       "\n",
       "   split1_test_score  split2_test_score  mean_test_score  std_test_score  \\\n",
       "0           0.874847           0.894740         0.884972        0.008125   \n",
       "1           0.872701           0.898809         0.884505        0.010804   \n",
       "2           0.874847           0.896122         0.884017        0.008930   \n",
       "3                NaN                NaN              NaN             NaN   \n",
       "\n",
       "   rank_test_score  \n",
       "0                1  \n",
       "1                2  \n",
       "2                3  \n",
       "3                4  "
      ]
     },
     "execution_count": 14,
     "metadata": {},
     "output_type": "execute_result"
    }
   ],
   "source": [
    "# Grid Search\n",
    "clf = gerar_voting(clfs_selec, clfs_base)\n",
    "estimator, results = ofg.executa_grid_search(param_grid, clf, X_GS,  y_GS, vectorizer)\n",
    "info['scores'][estimator['classifier'].__class__.__name__ + '_Multiclasse'] = results.iloc[0]['mean_test_score']\n",
    "results.head(10)"
   ]
  },
  {
   "cell_type": "code",
   "execution_count": 15,
   "metadata": {},
   "outputs": [
    {
     "name": "stdout",
     "output_type": "stream",
     "text": [
      "Scores Multiclasse na Base de Treino/Testes\n",
      "--------------------------------------------------\n",
      "LogisticRegression             0.8805013839861138\n",
      "LinearSVC                      0.8877512938837833\n",
      "SVC                            0.8810979465853578\n",
      "SGDClassifier                  0.8878559780805455\n",
      "RandomForestClassifier         0.8081470154783211\n",
      "VotingClassifier_Multiclasse   0.8849724430971689\n"
     ]
    }
   ],
   "source": [
    "print('Scores Multiclasse na Base de Treino/Testes')\n",
    "print('-'*50)\n",
    "for score in info['scores']:\n",
    "    print('%-30s' % score,info['scores'][score])"
   ]
  },
  {
   "cell_type": "code",
   "execution_count": 16,
   "metadata": {},
   "outputs": [
    {
     "data": {
      "text/plain": [
       "{'LogisticRegression': 0.8805013839861138,\n",
       " 'LinearSVC': 0.8877512938837833,\n",
       " 'SVC': 0.8810979465853578,\n",
       " 'SGDClassifier': 0.8878559780805455,\n",
       " 'RandomForestClassifier': 0.8081470154783211,\n",
       " 'VotingClassifier_Multiclasse': 0.8849724430971689}"
      ]
     },
     "execution_count": 16,
     "metadata": {},
     "output_type": "execute_result"
    }
   ],
   "source": [
    "info['scores']"
   ]
  },
  {
   "cell_type": "markdown",
   "metadata": {},
   "source": [
    "## Voting Classifiers por Classe (por Bot)\n",
    "\n",
    "Cria um Voting Classifier específico para cada classe (ou seja, para cada bot)"
   ]
  },
  {
   "cell_type": "code",
   "execution_count": 17,
   "metadata": {},
   "outputs": [],
   "source": [
    "# Parâmetros de Grid Search do VotingClassifier\n",
    "param_grid = {'classifier__weights':[[2,1,1,1,2],[1,1,1,1,1],[2.5,3,1,3,3],[3,3.1,1.2,1,3.1,3.1],[5,3.1,1.2,1,3.1,3.1]]}\n",
    "\n",
    "clfs_selec = []\n",
    "for clf in clfs_base:\n",
    "    clfs_selec.append(clf.__class__.__name__)"
   ]
  },
  {
   "cell_type": "code",
   "execution_count": 18,
   "metadata": {},
   "outputs": [
    {
     "name": "stdout",
     "output_type": "stream",
     "text": [
      "Fazendo Grid Search para Bot 1 - Alistamento Militar\n",
      "Fitting 3 folds for each of 5 candidates, totalling 15 fits\n"
     ]
    },
    {
     "name": "stderr",
     "output_type": "stream",
     "text": [
      "[Parallel(n_jobs=-1)]: Using backend LokyBackend with 16 concurrent workers.\n",
      "[Parallel(n_jobs=-1)]: Done   2 out of  15 | elapsed:    0.2s remaining:    2.2s\n",
      "[Parallel(n_jobs=-1)]: Done   8 out of  15 | elapsed:    5.7s remaining:    5.0s\n",
      "[Parallel(n_jobs=-1)]: Done  15 out of  15 | elapsed:    6.2s finished\n"
     ]
    },
    {
     "name": "stdout",
     "output_type": "stream",
     "text": [
      "VotingClassifier - Média Score: 0.9637151853321173 \n",
      "Params: {'classifier__weights': [2, 1, 1, 1, 2]}\n",
      "Bot Alistamento Militar \n",
      "Média Score: 0.9637151853321173 - Params: {'classifier__weights': [2, 1, 1, 1, 2]}\n",
      "------------------------------------------------------------------------------------------------------------------------ \n",
      "\n",
      "\n",
      "Fazendo Grid Search para Bot 2 - COVID\n",
      "Fitting 3 folds for each of 5 candidates, totalling 15 fits\n"
     ]
    },
    {
     "name": "stderr",
     "output_type": "stream",
     "text": [
      "[Parallel(n_jobs=-1)]: Using backend LokyBackend with 16 concurrent workers.\n",
      "[Parallel(n_jobs=-1)]: Done   2 out of  15 | elapsed:    0.3s remaining:    2.2s\n",
      "[Parallel(n_jobs=-1)]: Done   8 out of  15 | elapsed:    5.7s remaining:    5.0s\n",
      "[Parallel(n_jobs=-1)]: Done  15 out of  15 | elapsed:    6.1s finished\n"
     ]
    },
    {
     "name": "stdout",
     "output_type": "stream",
     "text": [
      "VotingClassifier - Média Score: 0.9328625871893461 \n",
      "Params: {'classifier__weights': [2, 1, 1, 1, 2]}\n",
      "Bot COVID \n",
      "Média Score: 0.9328625871893461 - Params: {'classifier__weights': [2, 1, 1, 1, 2]}\n",
      "------------------------------------------------------------------------------------------------------------------------ \n",
      "\n",
      "\n",
      "Fazendo Grid Search para Bot 3 - Login Único\n",
      "Fitting 3 folds for each of 5 candidates, totalling 15 fits\n"
     ]
    },
    {
     "name": "stderr",
     "output_type": "stream",
     "text": [
      "[Parallel(n_jobs=-1)]: Using backend LokyBackend with 16 concurrent workers.\n",
      "[Parallel(n_jobs=-1)]: Done   2 out of  15 | elapsed:    0.2s remaining:    1.7s\n",
      "[Parallel(n_jobs=-1)]: Done   8 out of  15 | elapsed:    6.2s remaining:    5.4s\n",
      "[Parallel(n_jobs=-1)]: Done  15 out of  15 | elapsed:    6.9s finished\n"
     ]
    },
    {
     "name": "stdout",
     "output_type": "stream",
     "text": [
      "VotingClassifier - Média Score: 0.9367978226139774 \n",
      "Params: {'classifier__weights': [2, 1, 1, 1, 2]}\n",
      "Bot Login Único \n",
      "Média Score: 0.9367978226139774 - Params: {'classifier__weights': [2, 1, 1, 1, 2]}\n",
      "------------------------------------------------------------------------------------------------------------------------ \n",
      "\n",
      "\n",
      "Fazendo Grid Search para Bot 4 - IRPF 2020\n",
      "Fitting 3 folds for each of 5 candidates, totalling 15 fits\n"
     ]
    },
    {
     "name": "stderr",
     "output_type": "stream",
     "text": [
      "[Parallel(n_jobs=-1)]: Using backend LokyBackend with 16 concurrent workers.\n",
      "[Parallel(n_jobs=-1)]: Done   2 out of  15 | elapsed:    0.2s remaining:    1.8s\n",
      "[Parallel(n_jobs=-1)]: Done   8 out of  15 | elapsed:    6.3s remaining:    5.5s\n",
      "[Parallel(n_jobs=-1)]: Done  15 out of  15 | elapsed:    6.7s finished\n"
     ]
    },
    {
     "name": "stdout",
     "output_type": "stream",
     "text": [
      "VotingClassifier - Média Score: 0.9869640618461079 \n",
      "Params: {'classifier__weights': [1, 1, 1, 1, 1]}\n",
      "Bot IRPF 2020 \n",
      "Média Score: 0.9869640618461079 - Params: {'classifier__weights': [1, 1, 1, 1, 1]}\n",
      "------------------------------------------------------------------------------------------------------------------------ \n",
      "\n",
      "\n",
      "Fazendo Grid Search para Bot 5 - PGMEI\n",
      "Fitting 3 folds for each of 5 candidates, totalling 15 fits\n"
     ]
    },
    {
     "name": "stderr",
     "output_type": "stream",
     "text": [
      "[Parallel(n_jobs=-1)]: Using backend LokyBackend with 16 concurrent workers.\n",
      "[Parallel(n_jobs=-1)]: Done   2 out of  15 | elapsed:    0.3s remaining:    2.3s\n",
      "[Parallel(n_jobs=-1)]: Done   8 out of  15 | elapsed:    5.2s remaining:    4.5s\n",
      "[Parallel(n_jobs=-1)]: Done  15 out of  15 | elapsed:    5.5s finished\n"
     ]
    },
    {
     "name": "stdout",
     "output_type": "stream",
     "text": [
      "VotingClassifier - Média Score: 0.8543411884168406 \n",
      "Params: {'classifier__weights': [1, 1, 1, 1, 1]}\n",
      "Bot PGMEI \n",
      "Média Score: 0.8543411884168406 - Params: {'classifier__weights': [1, 1, 1, 1, 1]}\n",
      "------------------------------------------------------------------------------------------------------------------------ \n",
      "\n",
      "\n",
      "Fazendo Grid Search para Bot 6 - Selo Turismo Responsável\n",
      "Fitting 3 folds for each of 5 candidates, totalling 15 fits\n"
     ]
    },
    {
     "name": "stderr",
     "output_type": "stream",
     "text": [
      "[Parallel(n_jobs=-1)]: Using backend LokyBackend with 16 concurrent workers.\n",
      "[Parallel(n_jobs=-1)]: Done   2 out of  15 | elapsed:    0.2s remaining:    1.7s\n",
      "[Parallel(n_jobs=-1)]: Done   8 out of  15 | elapsed:    9.4s remaining:    8.2s\n",
      "[Parallel(n_jobs=-1)]: Done  15 out of  15 | elapsed:   10.1s finished\n"
     ]
    },
    {
     "name": "stdout",
     "output_type": "stream",
     "text": [
      "VotingClassifier - Média Score: 0.9227552448991627 \n",
      "Params: {'classifier__weights': [2, 1, 1, 1, 2]}\n",
      "Bot Selo Turismo Responsável \n",
      "Média Score: 0.9227552448991627 - Params: {'classifier__weights': [2, 1, 1, 1, 2]}\n",
      "------------------------------------------------------------------------------------------------------------------------ \n",
      "\n",
      "\n",
      "Fazendo Grid Search para Bot 7 - Cadastur\n",
      "Fitting 3 folds for each of 5 candidates, totalling 15 fits\n"
     ]
    },
    {
     "name": "stderr",
     "output_type": "stream",
     "text": [
      "[Parallel(n_jobs=-1)]: Using backend LokyBackend with 16 concurrent workers.\n",
      "[Parallel(n_jobs=-1)]: Done   2 out of  15 | elapsed:    0.2s remaining:    2.1s\n",
      "[Parallel(n_jobs=-1)]: Done   8 out of  15 | elapsed:    9.3s remaining:    8.1s\n",
      "[Parallel(n_jobs=-1)]: Done  15 out of  15 | elapsed:   10.7s finished\n"
     ]
    },
    {
     "name": "stdout",
     "output_type": "stream",
     "text": [
      "VotingClassifier - Média Score: 0.795508208846547 \n",
      "Params: {'classifier__weights': [1, 1, 1, 1, 1]}\n",
      "Bot Cadastur \n",
      "Média Score: 0.795508208846547 - Params: {'classifier__weights': [1, 1, 1, 1, 1]}\n",
      "------------------------------------------------------------------------------------------------------------------------ \n",
      "\n",
      "\n",
      "Fazendo Grid Search para Bot 8 - Tuberculose\n",
      "Fitting 3 folds for each of 5 candidates, totalling 15 fits\n"
     ]
    },
    {
     "name": "stderr",
     "output_type": "stream",
     "text": [
      "[Parallel(n_jobs=-1)]: Using backend LokyBackend with 16 concurrent workers.\n",
      "[Parallel(n_jobs=-1)]: Done   2 out of  15 | elapsed:    0.3s remaining:    2.2s\n",
      "[Parallel(n_jobs=-1)]: Done   8 out of  15 | elapsed:    5.1s remaining:    4.5s\n",
      "[Parallel(n_jobs=-1)]: Done  15 out of  15 | elapsed:    5.6s finished\n"
     ]
    },
    {
     "name": "stdout",
     "output_type": "stream",
     "text": [
      "VotingClassifier - Média Score: 0.9911434143400221 \n",
      "Params: {'classifier__weights': [2, 1, 1, 1, 2]}\n",
      "Bot Tuberculose \n",
      "Média Score: 0.9911434143400221 - Params: {'classifier__weights': [2, 1, 1, 1, 2]}\n",
      "------------------------------------------------------------------------------------------------------------------------ \n",
      "\n",
      "\n",
      "Fim processamento\n"
     ]
    }
   ],
   "source": [
    "soma_ponderada = 0\n",
    "X_train = df['pergunta'].tolist() \n",
    "for bot in bots:\n",
    "    print('Fazendo Grid Search para Bot',bot['bot_id'],'-',bot['nome'])\n",
    "    \n",
    "    # Gera os rótulos 0/1 das classes, de acordo com o bot corrente\n",
    "    df['classe'] = df['bot_id'].apply(lambda x : 1 if x == bot['bot_id'] else 0)  \n",
    "    y_train =  df['classe'].tolist()\n",
    "    \n",
    "    # Faz o GridSearch\n",
    "    clf = gerar_voting(clfs_selec, clfs_base)\n",
    "    estimator, results = ofg.executa_grid_search(param_grid, clf, X_train,  y_train, vectorizer)\n",
    "    \n",
    "    bot['clf'] = estimator['classifier']\n",
    "    bot['results'] = results\n",
    "    \n",
    "    print('Bot',bot['nome'],'\\nMédia Score:',results.iloc[0]['mean_test_score'],'- Params:',results.iloc[0]['params'])\n",
    "    print('-'*120,'\\n\\n')\n",
    "    \n",
    "    soma_ponderada += len(df[df['bot_id']==bot['bot_id']]) * results.iloc[0]['mean_test_score']\n",
    "    \n",
    "media_ponderada = soma_ponderada/len(df)   \n",
    "info['scores'][estimator['classifier'].__class__.__name__ + '_por_classe'] = media_ponderada\n",
    "print('Fim processamento')"
   ]
  },
  {
   "cell_type": "code",
   "execution_count": 28,
   "metadata": {},
   "outputs": [
    {
     "name": "stdout",
     "output_type": "stream",
     "text": [
      "------------------------------------\n",
      "Scores Classificadores:Treino/Testes\n",
      "------------------------------------\n",
      "LogisticRegression             0.881\n",
      "LinearSVC                      0.888\n",
      "SVC                            0.881\n",
      "SGDClassifier                  0.888\n",
      "RandomForestClassifier         0.808\n",
      "VotingClassifier_Multiclasse   0.885\n",
      "VotingClassifier_por_classe    0.951\n",
      "------------------------------------\n"
     ]
    }
   ],
   "source": [
    "print('-'*36)\n",
    "print('Scores Classificadores:Treino/Testes')\n",
    "print('-'*36)\n",
    "for score in info['scores']:\n",
    "    print('%-30s' % score, round(info['scores'][score],3))\n",
    "print('-'*36)"
   ]
  },
  {
   "cell_type": "markdown",
   "metadata": {},
   "source": [
    "## Persiste os **Voting Classifier** por classe"
   ]
  },
  {
   "cell_type": "code",
   "execution_count": 20,
   "metadata": {},
   "outputs": [
    {
     "name": "stdout",
     "output_type": "stream",
     "text": [
      "Bot                            Arquivo\n",
      "------------------------------------------------------------------------------------------------------------------------\n",
      "1 - Alistamento Militar        E:\\DataScience\\PUC\\TCC\\tcc_orquestrador_bots_final\\modelos\\clf_voting_1.pkl\n",
      "2 - COVID                      E:\\DataScience\\PUC\\TCC\\tcc_orquestrador_bots_final\\modelos\\clf_voting_2.pkl\n",
      "3 - Login Único                E:\\DataScience\\PUC\\TCC\\tcc_orquestrador_bots_final\\modelos\\clf_voting_3.pkl\n",
      "4 - IRPF 2020                  E:\\DataScience\\PUC\\TCC\\tcc_orquestrador_bots_final\\modelos\\clf_voting_4.pkl\n",
      "5 - PGMEI                      E:\\DataScience\\PUC\\TCC\\tcc_orquestrador_bots_final\\modelos\\clf_voting_5.pkl\n",
      "6 - Selo Turismo Responsável   E:\\DataScience\\PUC\\TCC\\tcc_orquestrador_bots_final\\modelos\\clf_voting_6.pkl\n",
      "7 - Cadastur                   E:\\DataScience\\PUC\\TCC\\tcc_orquestrador_bots_final\\modelos\\clf_voting_7.pkl\n",
      "8 - Tuberculose                E:\\DataScience\\PUC\\TCC\\tcc_orquestrador_bots_final\\modelos\\clf_voting_8.pkl\n"
     ]
    }
   ],
   "source": [
    "# Persistindo os classificadores\n",
    "print('%-30s' % 'Bot','Arquivo')\n",
    "print('-'*120)\n",
    "for bot in bots:\n",
    "    clf = bot['clf']\n",
    "    arquivo_classificador_voting = cfg['padrao_arquivo_classificador_voting'].replace('%bot_id%',str(bot['bot_id']))\n",
    "    arquivo_classificador_voting = os.path.join(os.getcwd(), cfg['diretorio_modelos'], arquivo_classificador_voting)\n",
    "    with open(arquivo_classificador_voting, \"wb\") as clf_file:\n",
    "        pickle.dump(clf, clf_file)\n",
    "    print('%-30s' % (str(bot['bot_id']) + ' - ' + bot['nome']), arquivo_classificador_voting)"
   ]
  },
  {
   "cell_type": "code",
   "execution_count": 21,
   "metadata": {},
   "outputs": [
    {
     "name": "stdout",
     "output_type": "stream",
     "text": [
      "Informações atualizadas em E:\\DataScience\\PUC\\TCC\\tcc_orquestrador_bots_final\\dados\\info.json\n"
     ]
    }
   ],
   "source": [
    "# Persiste os scores em um arquivo json\n",
    "arquivo_informacoes = os.path.join(os.getcwd(), cfg['diretorio_dados'], cfg['arquivo_informacoes'])\n",
    "with open(arquivo_informacoes, 'w') as fp:\n",
    "    json.dump(info, fp, indent=2)\n",
    "print('Informações atualizadas em', arquivo_informacoes)"
   ]
  },
  {
   "cell_type": "code",
   "execution_count": 22,
   "metadata": {},
   "outputs": [
    {
     "name": "stdout",
     "output_type": "stream",
     "text": [
      "Fim da etapa 4!\n"
     ]
    }
   ],
   "source": [
    "print('Fim da etapa 4!')"
   ]
  }
 ],
 "metadata": {
  "kernelspec": {
   "display_name": "Python 3",
   "language": "python",
   "name": "python3"
  },
  "language_info": {
   "codemirror_mode": {
    "name": "ipython",
    "version": 3
   },
   "file_extension": ".py",
   "mimetype": "text/x-python",
   "name": "python",
   "nbconvert_exporter": "python",
   "pygments_lexer": "ipython3",
   "version": "3.7.6"
  }
 },
 "nbformat": 4,
 "nbformat_minor": 4
}
