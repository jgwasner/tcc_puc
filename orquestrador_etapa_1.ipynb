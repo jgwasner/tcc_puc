{
 "cells": [
  {
   "cell_type": "markdown",
   "metadata": {},
   "source": [
    "# Orquestrador de Chatbots - Etapa 1\n",
    "-----------------------------------\n",
    "## Extração e Separação dos Dados\n",
    "\n",
    "1. Extrair as perguntas dos arquivos JSON de Skills dos bots.\n",
    "2. Separar os dados em massa para treino/teste (rotulada) dos classificadores e de validação (rotulada e não rotulada), para posterior avaliação do desempenho dos classificadores gerados.\n",
    "3. Incluir na massa de validação uma série de perguntas que não pertencem a nenhum bot, simulando um ambiente real de produção.\n",
    "4. Salvar os três conjuntos de dados em arquivos CSV."
   ]
  },
  {
   "cell_type": "code",
   "execution_count": 26,
   "metadata": {},
   "outputs": [
    {
     "name": "stdout",
     "output_type": "stream",
     "text": [
      "The autoreload extension is already loaded. To reload it, use:\n",
      "  %reload_ext autoreload\n"
     ]
    }
   ],
   "source": [
    "%load_ext autoreload\n",
    "%autoreload 2"
   ]
  },
  {
   "cell_type": "markdown",
   "metadata": {},
   "source": [
    "## Bibliotecas utilizadas"
   ]
  },
  {
   "cell_type": "code",
   "execution_count": 27,
   "metadata": {},
   "outputs": [],
   "source": [
    "# https://pypi.org/project/pandas/\n",
    "import pandas as pd\n",
    "\n",
    "# https://numpy.org/\n",
    "import numpy as np\n",
    "\n",
    "# https://docs.python.org/3/library/csv.html\n",
    "import csv\n",
    "\n",
    "# https://www.nltk.org/api/nltk.tokenize.html\n",
    "from nltk.tokenize import RegexpTokenizer\n",
    "\n",
    "# https://docs.python.org/3/library/re.html\n",
    "import re\n",
    "\n",
    "# https://docs.python.org/3/library/unicodedata.html\n",
    "from unicodedata import normalize\n",
    "\n",
    "# https://scikit-learn.org/stable/modules/generated/sklearn.feature_extraction.text.CountVectorizer.html\n",
    "from sklearn.feature_extraction.text import CountVectorizer\n",
    "\n",
    "# https://scikit-learn.org/stable/modules/model_evaluation.html\n",
    "from sklearn.metrics import accuracy_score, f1_score, precision_score, recall_score\n",
    "\n",
    "# https://scikit-learn.org/stable/modules/generated/sklearn.model_selection.train_test_split.html\n",
    "from sklearn.model_selection import train_test_split\n",
    "\n",
    "# https://scikit-learn.org/stable/modules/generated/sklearn.model_selection.StratifiedKFold.html\n",
    "from sklearn.model_selection import StratifiedKFold\n",
    "\n",
    "# https://scikit-learn.org/stable/modules/generated/sklearn.linear_model.LogisticRegression.html\n",
    "from sklearn.linear_model import LogisticRegression\n",
    "\n",
    "# https://docs.python.org/3/library/statistics.html\n",
    "from statistics import mean \n",
    "\n",
    "import json\n",
    "import codecs\n",
    "import os\n",
    "import glob"
   ]
  },
  {
   "cell_type": "code",
   "execution_count": 28,
   "metadata": {},
   "outputs": [],
   "source": [
    "import orquestrador_funcoes_gerais as ofg"
   ]
  },
  {
   "cell_type": "markdown",
   "metadata": {},
   "source": [
    "## Funções"
   ]
  },
  {
   "cell_type": "code",
   "execution_count": 29,
   "metadata": {},
   "outputs": [],
   "source": [
    "# Inserir funções específicas do notebook aqui."
   ]
  },
  {
   "cell_type": "markdown",
   "metadata": {},
   "source": [
    "## Configurações"
   ]
  },
  {
   "cell_type": "code",
   "execution_count": 30,
   "metadata": {},
   "outputs": [
    {
     "name": "stdout",
     "output_type": "stream",
     "text": [
      "Conferir as configurações antes de prosseguir\n",
      "nome_arquivo_configuracao: config.json\n",
      "------------------------------------------------------------------------------------------------------------------------\n",
      "bots: [{'bot_id': 1, 'nome': 'Alistamento Militar', 'arquivo': 'skill-alistamento-militar.json'}, {'bot_id': 2, 'nome': 'COVID', 'arquivo': 'skill-covid.json'}, {'bot_id': 3, 'nome': 'Login Único', 'arquivo': 'skill-login-unico.json'}, {'bot_id': 4, 'nome': 'IRPF 2020', 'arquivo': 'skill-perguntao-irpf-2020.json'}, {'bot_id': 5, 'nome': 'PGMEI', 'arquivo': 'skill-pgmei.json'}, {'bot_id': 6, 'nome': 'Selo Turismo Responsável', 'arquivo': 'skill-poc-selo-turismo-responsavel.json'}, {'bot_id': 7, 'nome': 'Cadastur', 'arquivo': 'skill-cadastur.json'}, {'bot_id': 8, 'nome': 'Tuberculose', 'arquivo': 'skill-tuberculose.json'}]\n",
      "------------------------------------------------------------------------------------------------------------------------\n",
      "diretorio_skills: skills\n",
      "------------------------------------------------------------------------------------------------------------------------\n",
      "diretorio_dados: dados\n",
      "------------------------------------------------------------------------------------------------------------------------\n",
      "diretorio_modelos: modelos\n",
      "------------------------------------------------------------------------------------------------------------------------\n",
      "arquivo_perguntas_zero: bots_perguntas_0.csv\n",
      "------------------------------------------------------------------------------------------------------------------------\n",
      "arquivo_todas: bots_perguntas_todas.csv\n",
      "------------------------------------------------------------------------------------------------------------------------\n",
      "arquivo_treino_testes: treino_testes.csv\n",
      "------------------------------------------------------------------------------------------------------------------------\n",
      "arquivo_validacao: validacao.csv\n",
      "------------------------------------------------------------------------------------------------------------------------\n",
      "arquivo_validacao_com_zero: validacao_com_0.csv\n",
      "------------------------------------------------------------------------------------------------------------------------\n",
      "arquivo_treino_testes_processado: treino_testes_processado.csv\n",
      "------------------------------------------------------------------------------------------------------------------------\n",
      "arquivo_vocabulario: vocabulario.txt\n",
      "------------------------------------------------------------------------------------------------------------------------\n",
      "arquivo_vetorizador: vetorizador.pkl\n",
      "------------------------------------------------------------------------------------------------------------------------\n",
      "padrao_arquivo_classficador_base: clf_base_%classe%.pkl\n",
      "------------------------------------------------------------------------------------------------------------------------\n",
      "arquivo_classificador_voting: clf_voting.pkl\n",
      "------------------------------------------------------------------------------------------------------------------------\n",
      "aplicar_stemmer: True\n",
      "------------------------------------------------------------------------------------------------------------------------\n",
      "validacao_size: 0.35\n",
      "------------------------------------------------------------------------------------------------------------------------\n",
      "random_state: 112020\n",
      "------------------------------------------------------------------------------------------------------------------------\n",
      "vocab:\n",
      "  freq_min: 2\n",
      "  remover_frequentes: 15\n",
      "------------------------------------------------------------------------------------------------------------------------\n",
      "vetorizador:\n",
      "  ngram_range: [1, 2]\n",
      "  sublinear_tf: True\n",
      "  smooth_idf: False\n",
      "  norm: l2\n",
      "  vector_vocab: True\n",
      "------------------------------------------------------------------------------------------------------------------------\n"
     ]
    }
   ],
   "source": [
    "cfg = ofg.carregar_configuracoes()"
   ]
  },
  {
   "cell_type": "code",
   "execution_count": 45,
   "metadata": {},
   "outputs": [
    {
     "data": {
      "text/html": [
       "<div>\n",
       "<style scoped>\n",
       "    .dataframe tbody tr th:only-of-type {\n",
       "        vertical-align: middle;\n",
       "    }\n",
       "\n",
       "    .dataframe tbody tr th {\n",
       "        vertical-align: top;\n",
       "    }\n",
       "\n",
       "    .dataframe thead th {\n",
       "        text-align: right;\n",
       "    }\n",
       "</style>\n",
       "<table border=\"1\" class=\"dataframe\">\n",
       "  <thead>\n",
       "    <tr style=\"text-align: right;\">\n",
       "      <th></th>\n",
       "      <th>bot_id</th>\n",
       "      <th>pergunta</th>\n",
       "    </tr>\n",
       "  </thead>\n",
       "  <tbody>\n",
       "  </tbody>\n",
       "</table>\n",
       "</div>"
      ],
      "text/plain": [
       "Empty DataFrame\n",
       "Columns: [bot_id, pergunta]\n",
       "Index: []"
      ]
     },
     "execution_count": 45,
     "metadata": {},
     "output_type": "execute_result"
    }
   ],
   "source": [
    "df[df.isna().any(axis=1)]"
   ]
  },
  {
   "cell_type": "code",
   "execution_count": 31,
   "metadata": {},
   "outputs": [],
   "source": [
    "bots=cfg['bots']"
   ]
  },
  {
   "cell_type": "markdown",
   "metadata": {},
   "source": [
    "##  Extrai Perguntas das Skills dos JSONs\n",
    "\n",
    "1. Lê os JSONs de skills dos bots\n",
    "2. Extrai deles as perguntas (\"exemplos\")\n",
    "3. Converte as  perguntas para o formato CSV\n",
    "4. Salva o CSV para uso posterior."
   ]
  },
  {
   "cell_type": "code",
   "execution_count": 32,
   "metadata": {},
   "outputs": [
    {
     "name": "stdout",
     "output_type": "stream",
     "text": [
      "1 - Alistamento Militar - Arquivo: skill-alistamento-militar.json - Total perguntas extraídas: 365\n",
      "2 - COVID - Arquivo: skill-covid.json - Total perguntas extraídas: 178\n",
      "3 - Login Único - Arquivo: skill-login-unico.json - Total perguntas extraídas: 449\n",
      "4 - IRPF 2020 - Arquivo: skill-perguntao-irpf-2020.json - Total perguntas extraídas: 1850\n",
      "5 - PGMEI - Arquivo: skill-pgmei.json - Total perguntas extraídas: 111\n",
      "6 - Selo Turismo Responsável - Arquivo: skill-poc-selo-turismo-responsavel.json - Total perguntas extraídas: 599\n",
      "7 - Cadastur - Arquivo: skill-cadastur.json - Total perguntas extraídas: 294\n",
      "8 - Tuberculose - Arquivo: skill-tuberculose.json - Total perguntas extraídas: 232\n",
      "\n",
      "Total de Perguntas Extraídas: 4078\n",
      "Perguntas gravadas no arquivo: E:\\DataScience\\PUC\\TCC\\tcc_orquestrador_bots_final\\dados\\bots_perguntas_todas.csv\n"
     ]
    }
   ],
   "source": [
    "arquivo_todas = os.path.join(os.getcwd(),  cfg['diretorio_dados'], cfg['arquivo_todas']) \n",
    "\n",
    "with codecs.open(arquivo_todas, 'w', 'utf-8') as csvfile:\n",
    "    csvfile.write('bot_id,pergunta\\n')\n",
    "    total_geral = 0\n",
    "    for bot in bots:   \n",
    "        arquivo_skill = os.path.join(os.getcwd(),  cfg['diretorio_skills'], bot['arquivo']) \n",
    "        skills = json.loads(open(arquivo_skill, encoding='utf-8').read())\n",
    "        total_bot = 0\n",
    "        for intent in skills['intents']:\n",
    "            for example in intent['examples']:\n",
    "                csvfile.write(str(bot['bot_id']) + ',' + example['text'].replace(',',' ') + '\\n')\n",
    "                total_bot += 1\n",
    "                total_geral += 1                \n",
    "        print(bot['bot_id'],'-',bot['nome'],'- Arquivo:',bot['arquivo'],'- Total perguntas extraídas:',total_bot)\n",
    "    csvfile.close()\n",
    "    \n",
    "print('\\nTotal de Perguntas Extraídas:',total_geral)\n",
    "print('Perguntas gravadas no arquivo:', arquivo_todas)"
   ]
  },
  {
   "cell_type": "markdown",
   "metadata": {},
   "source": [
    "## Carrega os dados extraídos\n",
    "\n",
    "Carrega os dados do arquivo CSV preparado anteriormente."
   ]
  },
  {
   "cell_type": "code",
   "execution_count": 33,
   "metadata": {},
   "outputs": [
    {
     "name": "stdout",
     "output_type": "stream",
     "text": [
      "Total de registros carregados: 4078\n"
     ]
    },
    {
     "data": {
      "text/html": [
       "<div>\n",
       "<style scoped>\n",
       "    .dataframe tbody tr th:only-of-type {\n",
       "        vertical-align: middle;\n",
       "    }\n",
       "\n",
       "    .dataframe tbody tr th {\n",
       "        vertical-align: top;\n",
       "    }\n",
       "\n",
       "    .dataframe thead th {\n",
       "        text-align: right;\n",
       "    }\n",
       "</style>\n",
       "<table border=\"1\" class=\"dataframe\">\n",
       "  <thead>\n",
       "    <tr style=\"text-align: right;\">\n",
       "      <th></th>\n",
       "      <th>bot_id</th>\n",
       "      <th>pergunta</th>\n",
       "    </tr>\n",
       "  </thead>\n",
       "  <tbody>\n",
       "    <tr>\n",
       "      <th>1</th>\n",
       "      <td>1</td>\n",
       "      <td>como proceder para adiar a incorporação no ali...</td>\n",
       "    </tr>\n",
       "    <tr>\n",
       "      <th>2</th>\n",
       "      <td>1</td>\n",
       "      <td>cursando faculdade na area da saude na época d...</td>\n",
       "    </tr>\n",
       "    <tr>\n",
       "      <th>3</th>\n",
       "      <td>1</td>\n",
       "      <td>Estou cursando a faculdade de Medicina  Farmác...</td>\n",
       "    </tr>\n",
       "    <tr>\n",
       "      <th>4</th>\n",
       "      <td>1</td>\n",
       "      <td>estudantes da area de saúde têm condições espe...</td>\n",
       "    </tr>\n",
       "    <tr>\n",
       "      <th>5</th>\n",
       "      <td>1</td>\n",
       "      <td>Na época do alistamento militar o que deve faz...</td>\n",
       "    </tr>\n",
       "    <tr>\n",
       "      <th>...</th>\n",
       "      <td>...</td>\n",
       "      <td>...</td>\n",
       "    </tr>\n",
       "    <tr>\n",
       "      <th>4073</th>\n",
       "      <td>8</td>\n",
       "      <td>Tuberculose Urinaria</td>\n",
       "    </tr>\n",
       "    <tr>\n",
       "      <th>4074</th>\n",
       "      <td>8</td>\n",
       "      <td>tuberculose urinaria é o que</td>\n",
       "    </tr>\n",
       "    <tr>\n",
       "      <th>4075</th>\n",
       "      <td>8</td>\n",
       "      <td>Tuberculose Urinaria - Como tratar</td>\n",
       "    </tr>\n",
       "    <tr>\n",
       "      <th>4076</th>\n",
       "      <td>8</td>\n",
       "      <td>Tuberculose Urinaria - Diagnostico</td>\n",
       "    </tr>\n",
       "    <tr>\n",
       "      <th>4077</th>\n",
       "      <td>8</td>\n",
       "      <td>Tuberculose Urinaria - principais sintomas</td>\n",
       "    </tr>\n",
       "  </tbody>\n",
       "</table>\n",
       "<p>4077 rows × 2 columns</p>\n",
       "</div>"
      ],
      "text/plain": [
       "      bot_id                                           pergunta\n",
       "1          1  como proceder para adiar a incorporação no ali...\n",
       "2          1  cursando faculdade na area da saude na época d...\n",
       "3          1  Estou cursando a faculdade de Medicina  Farmác...\n",
       "4          1  estudantes da area de saúde têm condições espe...\n",
       "5          1  Na época do alistamento militar o que deve faz...\n",
       "...      ...                                                ...\n",
       "4073       8                               Tuberculose Urinaria\n",
       "4074       8                       tuberculose urinaria é o que\n",
       "4075       8                 Tuberculose Urinaria - Como tratar\n",
       "4076       8                 Tuberculose Urinaria - Diagnostico\n",
       "4077       8         Tuberculose Urinaria - principais sintomas\n",
       "\n",
       "[4077 rows x 2 columns]"
      ]
     },
     "execution_count": 33,
     "metadata": {},
     "output_type": "execute_result"
    }
   ],
   "source": [
    "df = pd.read_csv(arquivo_todas, index_col=None, engine='python', sep =',', encoding=\"utf-8\")\n",
    "print('Total de registros carregados:',len(df))\n",
    "\n",
    "# Exibe uma amostra dos dados.\n",
    "df.tail(-1)"
   ]
  },
  {
   "cell_type": "markdown",
   "metadata": {},
   "source": [
    "## Separa dados de treino/teste e de validação"
   ]
  },
  {
   "cell_type": "code",
   "execution_count": 34,
   "metadata": {},
   "outputs": [],
   "source": [
    "# Os registros deverão ser embaralhados, mas a distribuição das classes deve permanecer a mesma para os dois conjuntos de dados.\n",
    "df_treino_teste, df_validacao = train_test_split(df, test_size=cfg['validacao_size'], \n",
    "                                                 stratify=df['bot_id'], shuffle=True, random_state=cfg['random_state'])"
   ]
  },
  {
   "cell_type": "code",
   "execution_count": 35,
   "metadata": {},
   "outputs": [
    {
     "name": "stdout",
     "output_type": "stream",
     "text": [
      "Total: 4078 - Treino/Teste: 2650 - Validação: 1428\n"
     ]
    }
   ],
   "source": [
    "print('Total:',len(df),'- Treino/Teste:',len(df_treino_teste),'- Validação:',len(df_validacao))"
   ]
  },
  {
   "cell_type": "code",
   "execution_count": 36,
   "metadata": {},
   "outputs": [
    {
     "data": {
      "text/html": [
       "<div>\n",
       "<style scoped>\n",
       "    .dataframe tbody tr th:only-of-type {\n",
       "        vertical-align: middle;\n",
       "    }\n",
       "\n",
       "    .dataframe tbody tr th {\n",
       "        vertical-align: top;\n",
       "    }\n",
       "\n",
       "    .dataframe thead th {\n",
       "        text-align: right;\n",
       "    }\n",
       "</style>\n",
       "<table border=\"1\" class=\"dataframe\">\n",
       "  <thead>\n",
       "    <tr style=\"text-align: right;\">\n",
       "      <th></th>\n",
       "      <th>pergunta</th>\n",
       "    </tr>\n",
       "    <tr>\n",
       "      <th>bot_id</th>\n",
       "      <th></th>\n",
       "    </tr>\n",
       "  </thead>\n",
       "  <tbody>\n",
       "    <tr>\n",
       "      <th>1</th>\n",
       "      <td>365</td>\n",
       "    </tr>\n",
       "    <tr>\n",
       "      <th>2</th>\n",
       "      <td>178</td>\n",
       "    </tr>\n",
       "    <tr>\n",
       "      <th>3</th>\n",
       "      <td>449</td>\n",
       "    </tr>\n",
       "    <tr>\n",
       "      <th>4</th>\n",
       "      <td>1850</td>\n",
       "    </tr>\n",
       "    <tr>\n",
       "      <th>5</th>\n",
       "      <td>111</td>\n",
       "    </tr>\n",
       "    <tr>\n",
       "      <th>6</th>\n",
       "      <td>599</td>\n",
       "    </tr>\n",
       "    <tr>\n",
       "      <th>7</th>\n",
       "      <td>294</td>\n",
       "    </tr>\n",
       "    <tr>\n",
       "      <th>8</th>\n",
       "      <td>232</td>\n",
       "    </tr>\n",
       "  </tbody>\n",
       "</table>\n",
       "</div>"
      ],
      "text/plain": [
       "        pergunta\n",
       "bot_id          \n",
       "1            365\n",
       "2            178\n",
       "3            449\n",
       "4           1850\n",
       "5            111\n",
       "6            599\n",
       "7            294\n",
       "8            232"
      ]
     },
     "execution_count": 36,
     "metadata": {},
     "output_type": "execute_result"
    }
   ],
   "source": [
    "# Distribuição das classes nos dados fornecidos.\n",
    "df.groupby('bot_id').count()"
   ]
  },
  {
   "cell_type": "code",
   "execution_count": 37,
   "metadata": {},
   "outputs": [
    {
     "data": {
      "text/html": [
       "<div>\n",
       "<style scoped>\n",
       "    .dataframe tbody tr th:only-of-type {\n",
       "        vertical-align: middle;\n",
       "    }\n",
       "\n",
       "    .dataframe tbody tr th {\n",
       "        vertical-align: top;\n",
       "    }\n",
       "\n",
       "    .dataframe thead th {\n",
       "        text-align: right;\n",
       "    }\n",
       "</style>\n",
       "<table border=\"1\" class=\"dataframe\">\n",
       "  <thead>\n",
       "    <tr style=\"text-align: right;\">\n",
       "      <th></th>\n",
       "      <th>pergunta</th>\n",
       "    </tr>\n",
       "    <tr>\n",
       "      <th>bot_id</th>\n",
       "      <th></th>\n",
       "    </tr>\n",
       "  </thead>\n",
       "  <tbody>\n",
       "    <tr>\n",
       "      <th>1</th>\n",
       "      <td>237</td>\n",
       "    </tr>\n",
       "    <tr>\n",
       "      <th>2</th>\n",
       "      <td>116</td>\n",
       "    </tr>\n",
       "    <tr>\n",
       "      <th>3</th>\n",
       "      <td>292</td>\n",
       "    </tr>\n",
       "    <tr>\n",
       "      <th>4</th>\n",
       "      <td>1202</td>\n",
       "    </tr>\n",
       "    <tr>\n",
       "      <th>5</th>\n",
       "      <td>72</td>\n",
       "    </tr>\n",
       "    <tr>\n",
       "      <th>6</th>\n",
       "      <td>389</td>\n",
       "    </tr>\n",
       "    <tr>\n",
       "      <th>7</th>\n",
       "      <td>191</td>\n",
       "    </tr>\n",
       "    <tr>\n",
       "      <th>8</th>\n",
       "      <td>151</td>\n",
       "    </tr>\n",
       "  </tbody>\n",
       "</table>\n",
       "</div>"
      ],
      "text/plain": [
       "        pergunta\n",
       "bot_id          \n",
       "1            237\n",
       "2            116\n",
       "3            292\n",
       "4           1202\n",
       "5             72\n",
       "6            389\n",
       "7            191\n",
       "8            151"
      ]
     },
     "execution_count": 37,
     "metadata": {},
     "output_type": "execute_result"
    }
   ],
   "source": [
    "# Distribuição das classes nos dados de treino e teste.\n",
    "df_treino_teste.groupby('bot_id').count()"
   ]
  },
  {
   "cell_type": "code",
   "execution_count": 38,
   "metadata": {},
   "outputs": [
    {
     "data": {
      "text/html": [
       "<div>\n",
       "<style scoped>\n",
       "    .dataframe tbody tr th:only-of-type {\n",
       "        vertical-align: middle;\n",
       "    }\n",
       "\n",
       "    .dataframe tbody tr th {\n",
       "        vertical-align: top;\n",
       "    }\n",
       "\n",
       "    .dataframe thead th {\n",
       "        text-align: right;\n",
       "    }\n",
       "</style>\n",
       "<table border=\"1\" class=\"dataframe\">\n",
       "  <thead>\n",
       "    <tr style=\"text-align: right;\">\n",
       "      <th></th>\n",
       "      <th>pergunta</th>\n",
       "    </tr>\n",
       "    <tr>\n",
       "      <th>bot_id</th>\n",
       "      <th></th>\n",
       "    </tr>\n",
       "  </thead>\n",
       "  <tbody>\n",
       "    <tr>\n",
       "      <th>1</th>\n",
       "      <td>128</td>\n",
       "    </tr>\n",
       "    <tr>\n",
       "      <th>2</th>\n",
       "      <td>62</td>\n",
       "    </tr>\n",
       "    <tr>\n",
       "      <th>3</th>\n",
       "      <td>157</td>\n",
       "    </tr>\n",
       "    <tr>\n",
       "      <th>4</th>\n",
       "      <td>648</td>\n",
       "    </tr>\n",
       "    <tr>\n",
       "      <th>5</th>\n",
       "      <td>39</td>\n",
       "    </tr>\n",
       "    <tr>\n",
       "      <th>6</th>\n",
       "      <td>210</td>\n",
       "    </tr>\n",
       "    <tr>\n",
       "      <th>7</th>\n",
       "      <td>103</td>\n",
       "    </tr>\n",
       "    <tr>\n",
       "      <th>8</th>\n",
       "      <td>81</td>\n",
       "    </tr>\n",
       "  </tbody>\n",
       "</table>\n",
       "</div>"
      ],
      "text/plain": [
       "        pergunta\n",
       "bot_id          \n",
       "1            128\n",
       "2             62\n",
       "3            157\n",
       "4            648\n",
       "5             39\n",
       "6            210\n",
       "7            103\n",
       "8             81"
      ]
     },
     "execution_count": 38,
     "metadata": {},
     "output_type": "execute_result"
    }
   ],
   "source": [
    "# Distribuição das classes nos dados de validação.\n",
    "df_validacao.groupby('bot_id').count()"
   ]
  },
  {
   "cell_type": "code",
   "execution_count": 39,
   "metadata": {},
   "outputs": [
    {
     "name": "stdout",
     "output_type": "stream",
     "text": [
      "Dados de Treino e Teste salvos em E:\\DataScience\\PUC\\TCC\\tcc_orquestrador_bots_final\\dados\\treino_testes.csv\n",
      "Dados de Validação (SEM perguntas 0) salvos em E:\\DataScience\\PUC\\TCC\\tcc_orquestrador_bots_final\\dados\\validacao.csv\n"
     ]
    }
   ],
   "source": [
    "# Salva dados de treino e teste\n",
    "arquivo_treino_testes = os.path.join(os.getcwd(),  cfg['diretorio_dados'], cfg['arquivo_treino_testes'])\n",
    "df_treino_teste.to_csv(arquivo_treino_testes, index=False)\n",
    "print('Dados de Treino e Teste salvos em', arquivo_treino_testes)\n",
    "\n",
    "# Salva dados para validação, sem as \"perguntas zero\", para conferência da performance dos classificadores\n",
    "arquivo_validacao = os.path.join(os.getcwd(),  cfg['diretorio_dados'], cfg['arquivo_validacao'])\n",
    "df_validacao.to_csv(arquivo_validacao, index=False)\n",
    "print('Dados de Validação (SEM perguntas 0) salvos em', arquivo_validacao)"
   ]
  },
  {
   "cell_type": "markdown",
   "metadata": {},
   "source": [
    "## Inclui na validação perguntas não relacionadas a nenhum dos bots\n",
    "\n",
    "Terão que ser pensadas estratégias para lidar com perguntas que não estão no contexto de nenhum dos bots do escopo.\n",
    "Essas perguntas \"Zero\" simulam essa situação, muito comum num ambiente real de produção."
   ]
  },
  {
   "cell_type": "code",
   "execution_count": 40,
   "metadata": {},
   "outputs": [
    {
     "name": "stdout",
     "output_type": "stream",
     "text": [
      "Tamanho do Arquivo de Validação: 1428 perguntas\n",
      "255 perguntas \"Zero\" carregadas\n",
      "Novo Tamanho do Arquivo de Validação: 1683 perguntas\n",
      "Perguntas \"Zero\" são 15.15 % do total\n"
     ]
    }
   ],
   "source": [
    "print('Tamanho do Arquivo de Validação:',len(df_validacao),'perguntas')\n",
    "\n",
    "# Carrega as perguntas '0'\n",
    "df0 = pd.read_csv(os.path.join(os.getcwd(),  cfg['diretorio_dados'], cfg['arquivo_perguntas_zero']), \n",
    "                  index_col=None, engine='python', sep ='|', encoding=\"utf-8\")\n",
    "print(len(df0),'perguntas \"Zero\" carregadas')\n",
    "\n",
    "# Acrescenta o identificador 0\n",
    "df0['bot_id'] = 0\n",
    "\n",
    "# Adiciona as perguntas ao arquivo de validação\n",
    "df_validacao = df_validacao.append(df0,ignore_index=True)\n",
    "\n",
    "# Embaralha e reindexa o arquivo de validação\n",
    "df_validacao = df_validacao.sample(frac = 1)\n",
    "df_validacao = df_validacao.reset_index(drop=True)\n",
    "\n",
    "print('Novo Tamanho do Arquivo de Validação:',len(df_validacao),'perguntas')\n",
    "print('Perguntas \"Zero\" são', round(len(df0)/len(df_validacao),4)*100, '% do total')\n",
    "    "
   ]
  },
  {
   "cell_type": "code",
   "execution_count": 41,
   "metadata": {},
   "outputs": [
    {
     "data": {
      "text/html": [
       "<div>\n",
       "<style scoped>\n",
       "    .dataframe tbody tr th:only-of-type {\n",
       "        vertical-align: middle;\n",
       "    }\n",
       "\n",
       "    .dataframe tbody tr th {\n",
       "        vertical-align: top;\n",
       "    }\n",
       "\n",
       "    .dataframe thead th {\n",
       "        text-align: right;\n",
       "    }\n",
       "</style>\n",
       "<table border=\"1\" class=\"dataframe\">\n",
       "  <thead>\n",
       "    <tr style=\"text-align: right;\">\n",
       "      <th></th>\n",
       "      <th>pergunta</th>\n",
       "    </tr>\n",
       "    <tr>\n",
       "      <th>bot_id</th>\n",
       "      <th></th>\n",
       "    </tr>\n",
       "  </thead>\n",
       "  <tbody>\n",
       "    <tr>\n",
       "      <th>0</th>\n",
       "      <td>255</td>\n",
       "    </tr>\n",
       "    <tr>\n",
       "      <th>1</th>\n",
       "      <td>128</td>\n",
       "    </tr>\n",
       "    <tr>\n",
       "      <th>2</th>\n",
       "      <td>62</td>\n",
       "    </tr>\n",
       "    <tr>\n",
       "      <th>3</th>\n",
       "      <td>157</td>\n",
       "    </tr>\n",
       "    <tr>\n",
       "      <th>4</th>\n",
       "      <td>648</td>\n",
       "    </tr>\n",
       "    <tr>\n",
       "      <th>5</th>\n",
       "      <td>39</td>\n",
       "    </tr>\n",
       "    <tr>\n",
       "      <th>6</th>\n",
       "      <td>210</td>\n",
       "    </tr>\n",
       "    <tr>\n",
       "      <th>7</th>\n",
       "      <td>103</td>\n",
       "    </tr>\n",
       "    <tr>\n",
       "      <th>8</th>\n",
       "      <td>81</td>\n",
       "    </tr>\n",
       "  </tbody>\n",
       "</table>\n",
       "</div>"
      ],
      "text/plain": [
       "        pergunta\n",
       "bot_id          \n",
       "0            255\n",
       "1            128\n",
       "2             62\n",
       "3            157\n",
       "4            648\n",
       "5             39\n",
       "6            210\n",
       "7            103\n",
       "8             81"
      ]
     },
     "execution_count": 41,
     "metadata": {},
     "output_type": "execute_result"
    }
   ],
   "source": [
    "df_validacao.groupby('bot_id').count()"
   ]
  },
  {
   "cell_type": "code",
   "execution_count": 42,
   "metadata": {},
   "outputs": [
    {
     "name": "stdout",
     "output_type": "stream",
     "text": [
      "Dados de Validação (COM perguntas 0) salvos em E:\\DataScience\\PUC\\TCC\\tcc_orquestrador_bots_final\\dados\\validacao_com_0.csv\n"
     ]
    }
   ],
   "source": [
    "# Salva dados para validação, COM as \"perguntas zero\"\n",
    "arquivo_validacao_com_zero = os.path.join(os.getcwd(),  cfg['diretorio_dados'], cfg['arquivo_validacao_com_zero'])\n",
    "df_validacao.to_csv(arquivo_validacao_com_zero, index=False)\n",
    "print('Dados de Validação (COM perguntas 0) salvos em', arquivo_validacao_com_zero)"
   ]
  },
  {
   "cell_type": "code",
   "execution_count": 44,
   "metadata": {},
   "outputs": [
    {
     "name": "stdout",
     "output_type": "stream",
     "text": [
      "Fim da etapa 1!\n"
     ]
    }
   ],
   "source": [
    "print(\"Fim da etapa 1!\")"
   ]
  },
  {
   "cell_type": "code",
   "execution_count": null,
   "metadata": {},
   "outputs": [],
   "source": []
  }
 ],
 "metadata": {
  "kernelspec": {
   "display_name": "Python 3",
   "language": "python",
   "name": "python3"
  },
  "language_info": {
   "codemirror_mode": {
    "name": "ipython",
    "version": 3
   },
   "file_extension": ".py",
   "mimetype": "text/x-python",
   "name": "python",
   "nbconvert_exporter": "python",
   "pygments_lexer": "ipython3",
   "version": "3.7.6"
  }
 },
 "nbformat": 4,
 "nbformat_minor": 4
}
